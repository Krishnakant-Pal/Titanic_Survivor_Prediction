{
 "cells": [
  {
   "cell_type": "code",
   "execution_count": 1,
   "id": "4cdabf9b",
   "metadata": {
    "_cell_guid": "b1076dfc-b9ad-4769-8c92-a6c4dae69d19",
    "_uuid": "8f2839f25d086af736a60e9eeb907d3b93b6e0e5",
    "execution": {
     "iopub.execute_input": "2024-01-27T13:08:07.604601Z",
     "iopub.status.busy": "2024-01-27T13:08:07.604237Z",
     "iopub.status.idle": "2024-01-27T13:08:08.431859Z",
     "shell.execute_reply": "2024-01-27T13:08:08.430959Z"
    },
    "papermill": {
     "duration": 0.844674,
     "end_time": "2024-01-27T13:08:08.434233",
     "exception": false,
     "start_time": "2024-01-27T13:08:07.589559",
     "status": "completed"
    },
    "tags": []
   },
   "outputs": [
    {
     "name": "stdout",
     "output_type": "stream",
     "text": [
      "/kaggle/input/titanic/train.csv\n",
      "/kaggle/input/titanic/test.csv\n",
      "/kaggle/input/titanic/gender_submission.csv\n"
     ]
    }
   ],
   "source": [
    "# This Python 3 environment comes with many helpful analytics libraries installed\n",
    "# It is defined by the kaggle/python Docker image: https://github.com/kaggle/docker-python\n",
    "# For example, here's several helpful packages to load\n",
    "\n",
    "import numpy as np # linear algebra\n",
    "import pandas as pd # data processing, CSV file I/O (e.g. pd.read_csv)\n",
    "import warnings\n",
    "warnings.filterwarnings(\"ignore\")\n",
    "# Input data files are available in the read-only \"../input/\" directory\n",
    "# For example, running this (by clicking run or pressing Shift+Enter) will list all files under the input directory\n",
    "\n",
    "import os\n",
    "for dirname, _, filenames in os.walk('/kaggle/input'):\n",
    "    for filename in filenames:\n",
    "        print(os.path.join(dirname, filename))\n",
    "\n",
    "# You can write up to 20GB to the current directory (/kaggle/working/) that gets preserved as output when you create a version using \"Save & Run All\" \n",
    "# You can also write temporary files to /kaggle/temp/, but they won't be saved outside of the current session"
   ]
  },
  {
   "cell_type": "code",
   "execution_count": 2,
   "id": "ecb9ff52",
   "metadata": {
    "execution": {
     "iopub.execute_input": "2024-01-27T13:08:08.463007Z",
     "iopub.status.busy": "2024-01-27T13:08:08.462582Z",
     "iopub.status.idle": "2024-01-27T13:08:09.521940Z",
     "shell.execute_reply": "2024-01-27T13:08:09.521131Z"
    },
    "papermill": {
     "duration": 1.075609,
     "end_time": "2024-01-27T13:08:09.524162",
     "exception": false,
     "start_time": "2024-01-27T13:08:08.448553",
     "status": "completed"
    },
    "tags": []
   },
   "outputs": [],
   "source": [
    "#Imports\n",
    "\n",
    "import numpy as np # linear algebra\n",
    "import pandas as pd \n",
    "import matplotlib.pyplot as plt\n",
    "import seaborn as sns"
   ]
  },
  {
   "cell_type": "code",
   "execution_count": 3,
   "id": "3fc3f966",
   "metadata": {
    "execution": {
     "iopub.execute_input": "2024-01-27T13:08:09.552531Z",
     "iopub.status.busy": "2024-01-27T13:08:09.552216Z",
     "iopub.status.idle": "2024-01-27T13:08:09.580177Z",
     "shell.execute_reply": "2024-01-27T13:08:09.579261Z"
    },
    "papermill": {
     "duration": 0.044211,
     "end_time": "2024-01-27T13:08:09.582118",
     "exception": false,
     "start_time": "2024-01-27T13:08:09.537907",
     "status": "completed"
    },
    "tags": []
   },
   "outputs": [],
   "source": [
    "train = pd.read_csv('/kaggle/input/titanic/train.csv')\n",
    "test_data = pd.read_csv('/kaggle/input/titanic/test.csv')"
   ]
  },
  {
   "cell_type": "code",
   "execution_count": 4,
   "id": "aa2b7a45",
   "metadata": {
    "execution": {
     "iopub.execute_input": "2024-01-27T13:08:09.608977Z",
     "iopub.status.busy": "2024-01-27T13:08:09.608717Z",
     "iopub.status.idle": "2024-01-27T13:08:09.634148Z",
     "shell.execute_reply": "2024-01-27T13:08:09.633304Z"
    },
    "papermill": {
     "duration": 0.041438,
     "end_time": "2024-01-27T13:08:09.636537",
     "exception": false,
     "start_time": "2024-01-27T13:08:09.595099",
     "status": "completed"
    },
    "tags": []
   },
   "outputs": [
    {
     "data": {
      "text/html": [
       "<div>\n",
       "<style scoped>\n",
       "    .dataframe tbody tr th:only-of-type {\n",
       "        vertical-align: middle;\n",
       "    }\n",
       "\n",
       "    .dataframe tbody tr th {\n",
       "        vertical-align: top;\n",
       "    }\n",
       "\n",
       "    .dataframe thead th {\n",
       "        text-align: right;\n",
       "    }\n",
       "</style>\n",
       "<table border=\"1\" class=\"dataframe\">\n",
       "  <thead>\n",
       "    <tr style=\"text-align: right;\">\n",
       "      <th></th>\n",
       "      <th>PassengerId</th>\n",
       "      <th>Survived</th>\n",
       "      <th>Pclass</th>\n",
       "      <th>Name</th>\n",
       "      <th>Sex</th>\n",
       "      <th>Age</th>\n",
       "      <th>SibSp</th>\n",
       "      <th>Parch</th>\n",
       "      <th>Ticket</th>\n",
       "      <th>Fare</th>\n",
       "      <th>Cabin</th>\n",
       "      <th>Embarked</th>\n",
       "    </tr>\n",
       "  </thead>\n",
       "  <tbody>\n",
       "    <tr>\n",
       "      <th>0</th>\n",
       "      <td>1</td>\n",
       "      <td>0</td>\n",
       "      <td>3</td>\n",
       "      <td>Braund, Mr. Owen Harris</td>\n",
       "      <td>male</td>\n",
       "      <td>22.0</td>\n",
       "      <td>1</td>\n",
       "      <td>0</td>\n",
       "      <td>A/5 21171</td>\n",
       "      <td>7.2500</td>\n",
       "      <td>NaN</td>\n",
       "      <td>S</td>\n",
       "    </tr>\n",
       "    <tr>\n",
       "      <th>1</th>\n",
       "      <td>2</td>\n",
       "      <td>1</td>\n",
       "      <td>1</td>\n",
       "      <td>Cumings, Mrs. John Bradley (Florence Briggs Th...</td>\n",
       "      <td>female</td>\n",
       "      <td>38.0</td>\n",
       "      <td>1</td>\n",
       "      <td>0</td>\n",
       "      <td>PC 17599</td>\n",
       "      <td>71.2833</td>\n",
       "      <td>C85</td>\n",
       "      <td>C</td>\n",
       "    </tr>\n",
       "    <tr>\n",
       "      <th>2</th>\n",
       "      <td>3</td>\n",
       "      <td>1</td>\n",
       "      <td>3</td>\n",
       "      <td>Heikkinen, Miss. Laina</td>\n",
       "      <td>female</td>\n",
       "      <td>26.0</td>\n",
       "      <td>0</td>\n",
       "      <td>0</td>\n",
       "      <td>STON/O2. 3101282</td>\n",
       "      <td>7.9250</td>\n",
       "      <td>NaN</td>\n",
       "      <td>S</td>\n",
       "    </tr>\n",
       "    <tr>\n",
       "      <th>3</th>\n",
       "      <td>4</td>\n",
       "      <td>1</td>\n",
       "      <td>1</td>\n",
       "      <td>Futrelle, Mrs. Jacques Heath (Lily May Peel)</td>\n",
       "      <td>female</td>\n",
       "      <td>35.0</td>\n",
       "      <td>1</td>\n",
       "      <td>0</td>\n",
       "      <td>113803</td>\n",
       "      <td>53.1000</td>\n",
       "      <td>C123</td>\n",
       "      <td>S</td>\n",
       "    </tr>\n",
       "    <tr>\n",
       "      <th>4</th>\n",
       "      <td>5</td>\n",
       "      <td>0</td>\n",
       "      <td>3</td>\n",
       "      <td>Allen, Mr. William Henry</td>\n",
       "      <td>male</td>\n",
       "      <td>35.0</td>\n",
       "      <td>0</td>\n",
       "      <td>0</td>\n",
       "      <td>373450</td>\n",
       "      <td>8.0500</td>\n",
       "      <td>NaN</td>\n",
       "      <td>S</td>\n",
       "    </tr>\n",
       "  </tbody>\n",
       "</table>\n",
       "</div>"
      ],
      "text/plain": [
       "   PassengerId  Survived  Pclass  \\\n",
       "0            1         0       3   \n",
       "1            2         1       1   \n",
       "2            3         1       3   \n",
       "3            4         1       1   \n",
       "4            5         0       3   \n",
       "\n",
       "                                                Name     Sex   Age  SibSp  \\\n",
       "0                            Braund, Mr. Owen Harris    male  22.0      1   \n",
       "1  Cumings, Mrs. John Bradley (Florence Briggs Th...  female  38.0      1   \n",
       "2                             Heikkinen, Miss. Laina  female  26.0      0   \n",
       "3       Futrelle, Mrs. Jacques Heath (Lily May Peel)  female  35.0      1   \n",
       "4                           Allen, Mr. William Henry    male  35.0      0   \n",
       "\n",
       "   Parch            Ticket     Fare Cabin Embarked  \n",
       "0      0         A/5 21171   7.2500   NaN        S  \n",
       "1      0          PC 17599  71.2833   C85        C  \n",
       "2      0  STON/O2. 3101282   7.9250   NaN        S  \n",
       "3      0            113803  53.1000  C123        S  \n",
       "4      0            373450   8.0500   NaN        S  "
      ]
     },
     "execution_count": 4,
     "metadata": {},
     "output_type": "execute_result"
    }
   ],
   "source": [
    "train.head()"
   ]
  },
  {
   "cell_type": "code",
   "execution_count": 5,
   "id": "1643b752",
   "metadata": {
    "execution": {
     "iopub.execute_input": "2024-01-27T13:08:09.665356Z",
     "iopub.status.busy": "2024-01-27T13:08:09.665056Z",
     "iopub.status.idle": "2024-01-27T13:08:09.687294Z",
     "shell.execute_reply": "2024-01-27T13:08:09.686244Z"
    },
    "papermill": {
     "duration": 0.039065,
     "end_time": "2024-01-27T13:08:09.689251",
     "exception": false,
     "start_time": "2024-01-27T13:08:09.650186",
     "status": "completed"
    },
    "tags": []
   },
   "outputs": [
    {
     "name": "stdout",
     "output_type": "stream",
     "text": [
      "<class 'pandas.core.frame.DataFrame'>\n",
      "RangeIndex: 891 entries, 0 to 890\n",
      "Data columns (total 12 columns):\n",
      " #   Column       Non-Null Count  Dtype  \n",
      "---  ------       --------------  -----  \n",
      " 0   PassengerId  891 non-null    int64  \n",
      " 1   Survived     891 non-null    int64  \n",
      " 2   Pclass       891 non-null    int64  \n",
      " 3   Name         891 non-null    object \n",
      " 4   Sex          891 non-null    object \n",
      " 5   Age          714 non-null    float64\n",
      " 6   SibSp        891 non-null    int64  \n",
      " 7   Parch        891 non-null    int64  \n",
      " 8   Ticket       891 non-null    object \n",
      " 9   Fare         891 non-null    float64\n",
      " 10  Cabin        204 non-null    object \n",
      " 11  Embarked     889 non-null    object \n",
      "dtypes: float64(2), int64(5), object(5)\n",
      "memory usage: 83.7+ KB\n"
     ]
    }
   ],
   "source": [
    "train.info()"
   ]
  },
  {
   "cell_type": "code",
   "execution_count": 6,
   "id": "390e3c13",
   "metadata": {
    "execution": {
     "iopub.execute_input": "2024-01-27T13:08:09.717840Z",
     "iopub.status.busy": "2024-01-27T13:08:09.717201Z",
     "iopub.status.idle": "2024-01-27T13:08:09.727997Z",
     "shell.execute_reply": "2024-01-27T13:08:09.727192Z"
    },
    "papermill": {
     "duration": 0.027123,
     "end_time": "2024-01-27T13:08:09.729797",
     "exception": false,
     "start_time": "2024-01-27T13:08:09.702674",
     "status": "completed"
    },
    "tags": []
   },
   "outputs": [
    {
     "data": {
      "text/plain": [
       "PassengerId    891\n",
       "Survived         2\n",
       "Pclass           3\n",
       "Name           891\n",
       "Sex              2\n",
       "Age             88\n",
       "SibSp            7\n",
       "Parch            7\n",
       "Ticket         681\n",
       "Fare           248\n",
       "Cabin          147\n",
       "Embarked         3\n",
       "dtype: int64"
      ]
     },
     "execution_count": 6,
     "metadata": {},
     "output_type": "execute_result"
    }
   ],
   "source": [
    "train.nunique()"
   ]
  },
  {
   "cell_type": "code",
   "execution_count": 7,
   "id": "c319779a",
   "metadata": {
    "execution": {
     "iopub.execute_input": "2024-01-27T13:08:09.757709Z",
     "iopub.status.busy": "2024-01-27T13:08:09.757402Z",
     "iopub.status.idle": "2024-01-27T13:08:09.766087Z",
     "shell.execute_reply": "2024-01-27T13:08:09.765141Z"
    },
    "papermill": {
     "duration": 0.025075,
     "end_time": "2024-01-27T13:08:09.767998",
     "exception": false,
     "start_time": "2024-01-27T13:08:09.742923",
     "status": "completed"
    },
    "tags": []
   },
   "outputs": [
    {
     "data": {
      "text/plain": [
       "0"
      ]
     },
     "execution_count": 7,
     "metadata": {},
     "output_type": "execute_result"
    }
   ],
   "source": [
    "test_data.duplicated().sum()"
   ]
  },
  {
   "cell_type": "code",
   "execution_count": 8,
   "id": "b2acf5e4",
   "metadata": {
    "execution": {
     "iopub.execute_input": "2024-01-27T13:08:09.798261Z",
     "iopub.status.busy": "2024-01-27T13:08:09.797936Z",
     "iopub.status.idle": "2024-01-27T13:08:09.806189Z",
     "shell.execute_reply": "2024-01-27T13:08:09.805113Z"
    },
    "papermill": {
     "duration": 0.026386,
     "end_time": "2024-01-27T13:08:09.808365",
     "exception": false,
     "start_time": "2024-01-27T13:08:09.781979",
     "status": "completed"
    },
    "tags": []
   },
   "outputs": [
    {
     "data": {
      "text/plain": [
       "PassengerId      0\n",
       "Survived         0\n",
       "Pclass           0\n",
       "Name             0\n",
       "Sex              0\n",
       "Age            177\n",
       "SibSp            0\n",
       "Parch            0\n",
       "Ticket           0\n",
       "Fare             0\n",
       "Cabin          687\n",
       "Embarked         2\n",
       "dtype: int64"
      ]
     },
     "execution_count": 8,
     "metadata": {},
     "output_type": "execute_result"
    }
   ],
   "source": [
    "train.isnull().sum()"
   ]
  },
  {
   "cell_type": "code",
   "execution_count": 9,
   "id": "b3f29431",
   "metadata": {
    "execution": {
     "iopub.execute_input": "2024-01-27T13:08:09.840545Z",
     "iopub.status.busy": "2024-01-27T13:08:09.839822Z",
     "iopub.status.idle": "2024-01-27T13:08:09.873164Z",
     "shell.execute_reply": "2024-01-27T13:08:09.872318Z"
    },
    "papermill": {
     "duration": 0.051595,
     "end_time": "2024-01-27T13:08:09.875280",
     "exception": false,
     "start_time": "2024-01-27T13:08:09.823685",
     "status": "completed"
    },
    "tags": []
   },
   "outputs": [
    {
     "data": {
      "text/html": [
       "<div>\n",
       "<style scoped>\n",
       "    .dataframe tbody tr th:only-of-type {\n",
       "        vertical-align: middle;\n",
       "    }\n",
       "\n",
       "    .dataframe tbody tr th {\n",
       "        vertical-align: top;\n",
       "    }\n",
       "\n",
       "    .dataframe thead th {\n",
       "        text-align: right;\n",
       "    }\n",
       "</style>\n",
       "<table border=\"1\" class=\"dataframe\">\n",
       "  <thead>\n",
       "    <tr style=\"text-align: right;\">\n",
       "      <th></th>\n",
       "      <th>count</th>\n",
       "      <th>mean</th>\n",
       "      <th>std</th>\n",
       "      <th>min</th>\n",
       "      <th>25%</th>\n",
       "      <th>50%</th>\n",
       "      <th>75%</th>\n",
       "      <th>max</th>\n",
       "    </tr>\n",
       "  </thead>\n",
       "  <tbody>\n",
       "    <tr>\n",
       "      <th>PassengerId</th>\n",
       "      <td>891.0</td>\n",
       "      <td>446.000000</td>\n",
       "      <td>257.353842</td>\n",
       "      <td>1.00</td>\n",
       "      <td>223.5000</td>\n",
       "      <td>446.0000</td>\n",
       "      <td>668.5</td>\n",
       "      <td>891.0000</td>\n",
       "    </tr>\n",
       "    <tr>\n",
       "      <th>Survived</th>\n",
       "      <td>891.0</td>\n",
       "      <td>0.383838</td>\n",
       "      <td>0.486592</td>\n",
       "      <td>0.00</td>\n",
       "      <td>0.0000</td>\n",
       "      <td>0.0000</td>\n",
       "      <td>1.0</td>\n",
       "      <td>1.0000</td>\n",
       "    </tr>\n",
       "    <tr>\n",
       "      <th>Pclass</th>\n",
       "      <td>891.0</td>\n",
       "      <td>2.308642</td>\n",
       "      <td>0.836071</td>\n",
       "      <td>1.00</td>\n",
       "      <td>2.0000</td>\n",
       "      <td>3.0000</td>\n",
       "      <td>3.0</td>\n",
       "      <td>3.0000</td>\n",
       "    </tr>\n",
       "    <tr>\n",
       "      <th>Age</th>\n",
       "      <td>714.0</td>\n",
       "      <td>29.699118</td>\n",
       "      <td>14.526497</td>\n",
       "      <td>0.42</td>\n",
       "      <td>20.1250</td>\n",
       "      <td>28.0000</td>\n",
       "      <td>38.0</td>\n",
       "      <td>80.0000</td>\n",
       "    </tr>\n",
       "    <tr>\n",
       "      <th>SibSp</th>\n",
       "      <td>891.0</td>\n",
       "      <td>0.523008</td>\n",
       "      <td>1.102743</td>\n",
       "      <td>0.00</td>\n",
       "      <td>0.0000</td>\n",
       "      <td>0.0000</td>\n",
       "      <td>1.0</td>\n",
       "      <td>8.0000</td>\n",
       "    </tr>\n",
       "    <tr>\n",
       "      <th>Parch</th>\n",
       "      <td>891.0</td>\n",
       "      <td>0.381594</td>\n",
       "      <td>0.806057</td>\n",
       "      <td>0.00</td>\n",
       "      <td>0.0000</td>\n",
       "      <td>0.0000</td>\n",
       "      <td>0.0</td>\n",
       "      <td>6.0000</td>\n",
       "    </tr>\n",
       "    <tr>\n",
       "      <th>Fare</th>\n",
       "      <td>891.0</td>\n",
       "      <td>32.204208</td>\n",
       "      <td>49.693429</td>\n",
       "      <td>0.00</td>\n",
       "      <td>7.9104</td>\n",
       "      <td>14.4542</td>\n",
       "      <td>31.0</td>\n",
       "      <td>512.3292</td>\n",
       "    </tr>\n",
       "  </tbody>\n",
       "</table>\n",
       "</div>"
      ],
      "text/plain": [
       "             count        mean         std   min       25%       50%    75%  \\\n",
       "PassengerId  891.0  446.000000  257.353842  1.00  223.5000  446.0000  668.5   \n",
       "Survived     891.0    0.383838    0.486592  0.00    0.0000    0.0000    1.0   \n",
       "Pclass       891.0    2.308642    0.836071  1.00    2.0000    3.0000    3.0   \n",
       "Age          714.0   29.699118   14.526497  0.42   20.1250   28.0000   38.0   \n",
       "SibSp        891.0    0.523008    1.102743  0.00    0.0000    0.0000    1.0   \n",
       "Parch        891.0    0.381594    0.806057  0.00    0.0000    0.0000    0.0   \n",
       "Fare         891.0   32.204208   49.693429  0.00    7.9104   14.4542   31.0   \n",
       "\n",
       "                  max  \n",
       "PassengerId  891.0000  \n",
       "Survived       1.0000  \n",
       "Pclass         3.0000  \n",
       "Age           80.0000  \n",
       "SibSp          8.0000  \n",
       "Parch          6.0000  \n",
       "Fare         512.3292  "
      ]
     },
     "execution_count": 9,
     "metadata": {},
     "output_type": "execute_result"
    }
   ],
   "source": [
    "train.describe().T"
   ]
  },
  {
   "cell_type": "code",
   "execution_count": 10,
   "id": "15336a93",
   "metadata": {
    "execution": {
     "iopub.execute_input": "2024-01-27T13:08:09.905881Z",
     "iopub.status.busy": "2024-01-27T13:08:09.905537Z",
     "iopub.status.idle": "2024-01-27T13:08:09.926675Z",
     "shell.execute_reply": "2024-01-27T13:08:09.925686Z"
    },
    "papermill": {
     "duration": 0.038942,
     "end_time": "2024-01-27T13:08:09.928861",
     "exception": false,
     "start_time": "2024-01-27T13:08:09.889919",
     "status": "completed"
    },
    "tags": []
   },
   "outputs": [
    {
     "data": {
      "text/plain": [
       "Index(['PassengerId', 'Survived', 'Pclass', 'Age', 'SibSp', 'Parch', 'Fare'], dtype='object')"
      ]
     },
     "execution_count": 10,
     "metadata": {},
     "output_type": "execute_result"
    }
   ],
   "source": [
    "train.describe().columns"
   ]
  },
  {
   "cell_type": "code",
   "execution_count": 11,
   "id": "36fb1876",
   "metadata": {
    "execution": {
     "iopub.execute_input": "2024-01-27T13:08:09.960696Z",
     "iopub.status.busy": "2024-01-27T13:08:09.960395Z",
     "iopub.status.idle": "2024-01-27T13:08:09.969025Z",
     "shell.execute_reply": "2024-01-27T13:08:09.968109Z"
    },
    "papermill": {
     "duration": 0.026009,
     "end_time": "2024-01-27T13:08:09.971004",
     "exception": false,
     "start_time": "2024-01-27T13:08:09.944995",
     "status": "completed"
    },
    "tags": []
   },
   "outputs": [],
   "source": [
    "train_num = train[['Age','SibSp','Parch','Fare']]\n",
    "train_cat = train[['Survived','Pclass','Sex','Ticket','Cabin','Embarked']]"
   ]
  },
  {
   "cell_type": "code",
   "execution_count": 12,
   "id": "a3c65e90",
   "metadata": {
    "execution": {
     "iopub.execute_input": "2024-01-27T13:08:10.043785Z",
     "iopub.status.busy": "2024-01-27T13:08:10.043183Z",
     "iopub.status.idle": "2024-01-27T13:08:11.260071Z",
     "shell.execute_reply": "2024-01-27T13:08:11.259181Z"
    },
    "papermill": {
     "duration": 1.234965,
     "end_time": "2024-01-27T13:08:11.262379",
     "exception": false,
     "start_time": "2024-01-27T13:08:10.027414",
     "status": "completed"
    },
    "tags": []
   },
   "outputs": [
    {
     "data": {
      "image/png": "[encoded data removed]",
      "text/plain": [
       "<Figure size 800x2000 with 4 Axes>"
      ]
     },
     "metadata": {},
     "output_type": "display_data"
    }
   ],
   "source": [
    "fig, axes = plt.subplots(nrows=4, ncols=1, figsize=(8, 20))\n",
    "for i,j in enumerate(train_num.columns):\n",
    "    sns.histplot(data=train_num,x=j,ax=axes[i])\n",
    "plt.show()"
   ]
  },
  {
   "cell_type": "code",
   "execution_count": 13,
   "id": "a149dc03",
   "metadata": {
    "execution": {
     "iopub.execute_input": "2024-01-27T13:08:11.293991Z",
     "iopub.status.busy": "2024-01-27T13:08:11.293707Z",
     "iopub.status.idle": "2024-01-27T13:08:11.547933Z",
     "shell.execute_reply": "2024-01-27T13:08:11.547036Z"
    },
    "papermill": {
     "duration": 0.272412,
     "end_time": "2024-01-27T13:08:11.550037",
     "exception": false,
     "start_time": "2024-01-27T13:08:11.277625",
     "status": "completed"
    },
    "tags": []
   },
   "outputs": [
    {
     "data": {
      "text/plain": [
       "<Axes: xlabel='Sex', ylabel='count'>"
      ]
     },
     "execution_count": 13,
     "metadata": {},
     "output_type": "execute_result"
    },
    {
     "data": {
      "image/png": "[encoded data removed]",
      "text/plain": [
       "<Figure size 640x480 with 1 Axes>"
      ]
     },
     "metadata": {},
     "output_type": "display_data"
    }
   ],
   "source": [
    "sns.countplot(data=train_cat,x='Sex',hue='Survived')"
   ]
  },
  {
   "cell_type": "code",
   "execution_count": 14,
   "id": "e01d0712",
   "metadata": {
    "execution": {
     "iopub.execute_input": "2024-01-27T13:08:11.582176Z",
     "iopub.status.busy": "2024-01-27T13:08:11.581891Z",
     "iopub.status.idle": "2024-01-27T13:08:11.596411Z",
     "shell.execute_reply": "2024-01-27T13:08:11.595480Z"
    },
    "papermill": {
     "duration": 0.032961,
     "end_time": "2024-01-27T13:08:11.598635",
     "exception": false,
     "start_time": "2024-01-27T13:08:11.565674",
     "status": "completed"
    },
    "tags": []
   },
   "outputs": [
    {
     "data": {
      "text/html": [
       "<div>\n",
       "<style scoped>\n",
       "    .dataframe tbody tr th:only-of-type {\n",
       "        vertical-align: middle;\n",
       "    }\n",
       "\n",
       "    .dataframe tbody tr th {\n",
       "        vertical-align: top;\n",
       "    }\n",
       "\n",
       "    .dataframe thead th {\n",
       "        text-align: right;\n",
       "    }\n",
       "</style>\n",
       "<table border=\"1\" class=\"dataframe\">\n",
       "  <thead>\n",
       "    <tr style=\"text-align: right;\">\n",
       "      <th></th>\n",
       "      <th>PassengerId</th>\n",
       "      <th>Survived</th>\n",
       "      <th>Pclass</th>\n",
       "      <th>Name</th>\n",
       "      <th>Sex</th>\n",
       "      <th>Age</th>\n",
       "      <th>SibSp</th>\n",
       "      <th>Parch</th>\n",
       "      <th>Ticket</th>\n",
       "      <th>Fare</th>\n",
       "      <th>Cabin</th>\n",
       "      <th>Embarked</th>\n",
       "    </tr>\n",
       "  </thead>\n",
       "  <tbody>\n",
       "    <tr>\n",
       "      <th>0</th>\n",
       "      <td>1</td>\n",
       "      <td>0</td>\n",
       "      <td>3</td>\n",
       "      <td>Braund, Mr. Owen Harris</td>\n",
       "      <td>male</td>\n",
       "      <td>22.0</td>\n",
       "      <td>1</td>\n",
       "      <td>0</td>\n",
       "      <td>A/5 21171</td>\n",
       "      <td>7.2500</td>\n",
       "      <td>NaN</td>\n",
       "      <td>S</td>\n",
       "    </tr>\n",
       "    <tr>\n",
       "      <th>1</th>\n",
       "      <td>2</td>\n",
       "      <td>1</td>\n",
       "      <td>1</td>\n",
       "      <td>Cumings, Mrs. John Bradley (Florence Briggs Th...</td>\n",
       "      <td>female</td>\n",
       "      <td>38.0</td>\n",
       "      <td>1</td>\n",
       "      <td>0</td>\n",
       "      <td>PC 17599</td>\n",
       "      <td>71.2833</td>\n",
       "      <td>C85</td>\n",
       "      <td>C</td>\n",
       "    </tr>\n",
       "    <tr>\n",
       "      <th>2</th>\n",
       "      <td>3</td>\n",
       "      <td>1</td>\n",
       "      <td>3</td>\n",
       "      <td>Heikkinen, Miss. Laina</td>\n",
       "      <td>female</td>\n",
       "      <td>26.0</td>\n",
       "      <td>0</td>\n",
       "      <td>0</td>\n",
       "      <td>STON/O2. 3101282</td>\n",
       "      <td>7.9250</td>\n",
       "      <td>NaN</td>\n",
       "      <td>S</td>\n",
       "    </tr>\n",
       "    <tr>\n",
       "      <th>3</th>\n",
       "      <td>4</td>\n",
       "      <td>1</td>\n",
       "      <td>1</td>\n",
       "      <td>Futrelle, Mrs. Jacques Heath (Lily May Peel)</td>\n",
       "      <td>female</td>\n",
       "      <td>35.0</td>\n",
       "      <td>1</td>\n",
       "      <td>0</td>\n",
       "      <td>113803</td>\n",
       "      <td>53.1000</td>\n",
       "      <td>C123</td>\n",
       "      <td>S</td>\n",
       "    </tr>\n",
       "    <tr>\n",
       "      <th>4</th>\n",
       "      <td>5</td>\n",
       "      <td>0</td>\n",
       "      <td>3</td>\n",
       "      <td>Allen, Mr. William Henry</td>\n",
       "      <td>male</td>\n",
       "      <td>35.0</td>\n",
       "      <td>0</td>\n",
       "      <td>0</td>\n",
       "      <td>373450</td>\n",
       "      <td>8.0500</td>\n",
       "      <td>NaN</td>\n",
       "      <td>S</td>\n",
       "    </tr>\n",
       "  </tbody>\n",
       "</table>\n",
       "</div>"
      ],
      "text/plain": [
       "   PassengerId  Survived  Pclass  \\\n",
       "0            1         0       3   \n",
       "1            2         1       1   \n",
       "2            3         1       3   \n",
       "3            4         1       1   \n",
       "4            5         0       3   \n",
       "\n",
       "                                                Name     Sex   Age  SibSp  \\\n",
       "0                            Braund, Mr. Owen Harris    male  22.0      1   \n",
       "1  Cumings, Mrs. John Bradley (Florence Briggs Th...  female  38.0      1   \n",
       "2                             Heikkinen, Miss. Laina  female  26.0      0   \n",
       "3       Futrelle, Mrs. Jacques Heath (Lily May Peel)  female  35.0      1   \n",
       "4                           Allen, Mr. William Henry    male  35.0      0   \n",
       "\n",
       "   Parch            Ticket     Fare Cabin Embarked  \n",
       "0      0         A/5 21171   7.2500   NaN        S  \n",
       "1      0          PC 17599  71.2833   C85        C  \n",
       "2      0  STON/O2. 3101282   7.9250   NaN        S  \n",
       "3      0            113803  53.1000  C123        S  \n",
       "4      0            373450   8.0500   NaN        S  "
      ]
     },
     "execution_count": 14,
     "metadata": {},
     "output_type": "execute_result"
    }
   ],
   "source": [
    "train.head()"
   ]
  },
  {
   "cell_type": "code",
   "execution_count": 15,
   "id": "b25f64cb",
   "metadata": {
    "execution": {
     "iopub.execute_input": "2024-01-27T13:08:11.631313Z",
     "iopub.status.busy": "2024-01-27T13:08:11.631069Z",
     "iopub.status.idle": "2024-01-27T13:08:11.883764Z",
     "shell.execute_reply": "2024-01-27T13:08:11.882869Z"
    },
    "papermill": {
     "duration": 0.271222,
     "end_time": "2024-01-27T13:08:11.886124",
     "exception": false,
     "start_time": "2024-01-27T13:08:11.614902",
     "status": "completed"
    },
    "tags": []
   },
   "outputs": [
    {
     "data": {
      "text/plain": [
       "<Axes: xlabel='Sex', ylabel='count'>"
      ]
     },
     "execution_count": 15,
     "metadata": {},
     "output_type": "execute_result"
    },
    {
     "data": {
      "image/png": "[encoded data removed]",
      "text/plain": [
       "<Figure size 640x480 with 1 Axes>"
      ]
     },
     "metadata": {},
     "output_type": "display_data"
    }
   ],
   "source": [
    "sns.countplot(data=train_cat,x='Sex',hue='Survived')"
   ]
  },
  {
   "cell_type": "code",
   "execution_count": 16,
   "id": "ee72a384",
   "metadata": {
    "execution": {
     "iopub.execute_input": "2024-01-27T13:08:11.922485Z",
     "iopub.status.busy": "2024-01-27T13:08:11.922172Z",
     "iopub.status.idle": "2024-01-27T13:08:12.143712Z",
     "shell.execute_reply": "2024-01-27T13:08:12.142798Z"
    },
    "papermill": {
     "duration": 0.241457,
     "end_time": "2024-01-27T13:08:12.145860",
     "exception": false,
     "start_time": "2024-01-27T13:08:11.904403",
     "status": "completed"
    },
    "tags": []
   },
   "outputs": [
    {
     "data": {
      "text/plain": [
       "<Axes: xlabel='Pclass', ylabel='count'>"
      ]
     },
     "execution_count": 16,
     "metadata": {},
     "output_type": "execute_result"
    },
    {
     "data": {
      "image/png": "[encoded data removed]",
      "text/plain": [
       "<Figure size 640x480 with 1 Axes>"
      ]
     },
     "metadata": {},
     "output_type": "display_data"
    }
   ],
   "source": [
    "sns.countplot(data=train_cat,x='Pclass',hue='Sex')"
   ]
  },
  {
   "cell_type": "code",
   "execution_count": 17,
   "id": "6c884ddd",
   "metadata": {
    "execution": {
     "iopub.execute_input": "2024-01-27T13:08:12.182372Z",
     "iopub.status.busy": "2024-01-27T13:08:12.182070Z",
     "iopub.status.idle": "2024-01-27T13:08:12.416014Z",
     "shell.execute_reply": "2024-01-27T13:08:12.415089Z"
    },
    "papermill": {
     "duration": 0.254104,
     "end_time": "2024-01-27T13:08:12.418250",
     "exception": false,
     "start_time": "2024-01-27T13:08:12.164146",
     "status": "completed"
    },
    "tags": []
   },
   "outputs": [
    {
     "data": {
      "text/plain": [
       "<Axes: xlabel='Pclass', ylabel='count'>"
      ]
     },
     "execution_count": 17,
     "metadata": {},
     "output_type": "execute_result"
    },
    {
     "data": {
      "image/png": "[encoded data removed]",
      "text/plain": [
       "<Figure size 640x480 with 1 Axes>"
      ]
     },
     "metadata": {},
     "output_type": "display_data"
    }
   ],
   "source": [
    "sns.countplot(data=train_cat,x='Pclass',hue='Survived')"
   ]
  },
  {
   "cell_type": "code",
   "execution_count": 18,
   "id": "7d87e93b",
   "metadata": {
    "execution": {
     "iopub.execute_input": "2024-01-27T13:08:12.453816Z",
     "iopub.status.busy": "2024-01-27T13:08:12.453232Z",
     "iopub.status.idle": "2024-01-27T13:08:12.707755Z",
     "shell.execute_reply": "2024-01-27T13:08:12.706873Z"
    },
    "papermill": {
     "duration": 0.274531,
     "end_time": "2024-01-27T13:08:12.709963",
     "exception": false,
     "start_time": "2024-01-27T13:08:12.435432",
     "status": "completed"
    },
    "tags": []
   },
   "outputs": [
    {
     "data": {
      "text/plain": [
       "<Axes: xlabel='Embarked', ylabel='Fare'>"
      ]
     },
     "execution_count": 18,
     "metadata": {},
     "output_type": "execute_result"
    },
    {
     "data": {
      "image/png": "[encoded data removed]",
      "text/plain": [
       "<Figure size 640x480 with 1 Axes>"
      ]
     },
     "metadata": {},
     "output_type": "display_data"
    }
   ],
   "source": [
    "sns.boxplot(data=train,x='Embarked',y='Fare')"
   ]
  },
  {
   "cell_type": "code",
   "execution_count": 19,
   "id": "1a180c66",
   "metadata": {
    "execution": {
     "iopub.execute_input": "2024-01-27T13:08:12.748301Z",
     "iopub.status.busy": "2024-01-27T13:08:12.747997Z",
     "iopub.status.idle": "2024-01-27T13:08:13.000953Z",
     "shell.execute_reply": "2024-01-27T13:08:13.000073Z"
    },
    "papermill": {
     "duration": 0.274966,
     "end_time": "2024-01-27T13:08:13.003079",
     "exception": false,
     "start_time": "2024-01-27T13:08:12.728113",
     "status": "completed"
    },
    "tags": []
   },
   "outputs": [
    {
     "data": {
      "text/plain": [
       "<Axes: xlabel='Pclass', ylabel='Fare'>"
      ]
     },
     "execution_count": 19,
     "metadata": {},
     "output_type": "execute_result"
    },
    {
     "data": {
      "image/png": "[encoded data removed]",
      "text/plain": [
       "<Figure size 640x480 with 1 Axes>"
      ]
     },
     "metadata": {},
     "output_type": "display_data"
    }
   ],
   "source": [
    "sns.boxplot(data=train,x='Pclass',y='Fare')"
   ]
  },
  {
   "cell_type": "markdown",
   "id": "e14d6c84",
   "metadata": {
    "papermill": {
     "duration": 0.01834,
     "end_time": "2024-01-27T13:08:13.039904",
     "exception": false,
     "start_time": "2024-01-27T13:08:13.021564",
     "status": "completed"
    },
    "tags": []
   },
   "source": [
    "## Feature Engineering"
   ]
  },
  {
   "cell_type": "markdown",
   "id": "32c36ec4",
   "metadata": {
    "papermill": {
     "duration": 0.01723,
     "end_time": "2024-01-27T13:08:13.075228",
     "exception": false,
     "start_time": "2024-01-27T13:08:13.057998",
     "status": "completed"
    },
    "tags": []
   },
   "source": [
    "### Data Cleaning\n",
    "Deleting non usable feature"
   ]
  },
  {
   "cell_type": "code",
   "execution_count": 20,
   "id": "cca7adfe",
   "metadata": {
    "execution": {
     "iopub.execute_input": "2024-01-27T13:08:13.112342Z",
     "iopub.status.busy": "2024-01-27T13:08:13.112038Z",
     "iopub.status.idle": "2024-01-27T13:08:13.117440Z",
     "shell.execute_reply": "2024-01-27T13:08:13.116633Z"
    },
    "papermill": {
     "duration": 0.026335,
     "end_time": "2024-01-27T13:08:13.119370",
     "exception": false,
     "start_time": "2024-01-27T13:08:13.093035",
     "status": "completed"
    },
    "tags": []
   },
   "outputs": [],
   "source": [
    "X = train.drop(['Survived','Cabin','Name','Ticket','PassengerId'],axis=1)"
   ]
  },
  {
   "cell_type": "code",
   "execution_count": 21,
   "id": "3b430ba8",
   "metadata": {
    "execution": {
     "iopub.execute_input": "2024-01-27T13:08:13.156760Z",
     "iopub.status.busy": "2024-01-27T13:08:13.156446Z",
     "iopub.status.idle": "2024-01-27T13:08:13.161011Z",
     "shell.execute_reply": "2024-01-27T13:08:13.160168Z"
    },
    "papermill": {
     "duration": 0.026153,
     "end_time": "2024-01-27T13:08:13.162981",
     "exception": false,
     "start_time": "2024-01-27T13:08:13.136828",
     "status": "completed"
    },
    "tags": []
   },
   "outputs": [],
   "source": [
    "y = train['Survived']"
   ]
  },
  {
   "cell_type": "code",
   "execution_count": 22,
   "id": "7efadedf",
   "metadata": {
    "execution": {
     "iopub.execute_input": "2024-01-27T13:08:13.201265Z",
     "iopub.status.busy": "2024-01-27T13:08:13.200992Z",
     "iopub.status.idle": "2024-01-27T13:08:13.466286Z",
     "shell.execute_reply": "2024-01-27T13:08:13.465298Z"
    },
    "papermill": {
     "duration": 0.287239,
     "end_time": "2024-01-27T13:08:13.468685",
     "exception": false,
     "start_time": "2024-01-27T13:08:13.181446",
     "status": "completed"
    },
    "tags": []
   },
   "outputs": [],
   "source": [
    "from sklearn.model_selection import train_test_split\n",
    "X_train, X_test, y_train, y_test = train_test_split(X, y, test_size=0.33, random_state=42)"
   ]
  },
  {
   "cell_type": "markdown",
   "id": "87e5d809",
   "metadata": {
    "papermill": {
     "duration": 0.017384,
     "end_time": "2024-01-27T13:08:13.504573",
     "exception": false,
     "start_time": "2024-01-27T13:08:13.487189",
     "status": "completed"
    },
    "tags": []
   },
   "source": []
  },
  {
   "cell_type": "code",
   "execution_count": 23,
   "id": "f5d1e95b",
   "metadata": {
    "execution": {
     "iopub.execute_input": "2024-01-27T13:08:13.542163Z",
     "iopub.status.busy": "2024-01-27T13:08:13.541581Z",
     "iopub.status.idle": "2024-01-27T13:08:13.700191Z",
     "shell.execute_reply": "2024-01-27T13:08:13.699387Z"
    },
    "papermill": {
     "duration": 0.179939,
     "end_time": "2024-01-27T13:08:13.702323",
     "exception": false,
     "start_time": "2024-01-27T13:08:13.522384",
     "status": "completed"
    },
    "tags": []
   },
   "outputs": [],
   "source": [
    "from sklearn.preprocessing import LabelBinarizer,OneHotEncoder \n",
    "from sklearn.impute import SimpleImputer ## HAndling Missing Values\n",
    "from sklearn.preprocessing import StandardScaler # HAndling Feature Scaling\n",
    "\n",
    "## pipelines\n",
    "from sklearn.pipeline import Pipeline\n",
    "from sklearn.compose import ColumnTransformer"
   ]
  },
  {
   "cell_type": "code",
   "execution_count": 24,
   "id": "84023ddc",
   "metadata": {
    "execution": {
     "iopub.execute_input": "2024-01-27T13:08:13.739884Z",
     "iopub.status.busy": "2024-01-27T13:08:13.739566Z",
     "iopub.status.idle": "2024-01-27T13:08:13.743669Z",
     "shell.execute_reply": "2024-01-27T13:08:13.742892Z"
    },
    "papermill": {
     "duration": 0.024652,
     "end_time": "2024-01-27T13:08:13.745559",
     "exception": false,
     "start_time": "2024-01-27T13:08:13.720907",
     "status": "completed"
    },
    "tags": []
   },
   "outputs": [],
   "source": [
    "categorical_cols = ['Pclass','Sex','Embarked']\n",
    "numerical_cols = ['Age','SibSp','Parch','Fare']"
   ]
  },
  {
   "cell_type": "code",
   "execution_count": 25,
   "id": "d1aba310",
   "metadata": {
    "execution": {
     "iopub.execute_input": "2024-01-27T13:08:13.783072Z",
     "iopub.status.busy": "2024-01-27T13:08:13.782240Z",
     "iopub.status.idle": "2024-01-27T13:08:13.788462Z",
     "shell.execute_reply": "2024-01-27T13:08:13.787634Z"
    },
    "papermill": {
     "duration": 0.026798,
     "end_time": "2024-01-27T13:08:13.790350",
     "exception": false,
     "start_time": "2024-01-27T13:08:13.763552",
     "status": "completed"
    },
    "tags": []
   },
   "outputs": [],
   "source": [
    "num_pipeline=Pipeline([\n",
    "    ('imputer',SimpleImputer(strategy='median')),\n",
    "    ('scaler', StandardScaler()),\n",
    "])\n",
    "\n",
    "cat_pipeline = Pipeline([\n",
    "    ('imputer',SimpleImputer(strategy='most_frequent')),\n",
    "#     ('label_binarizer' ,LabelBinarizer()),\n",
    "    ('one_hot_encoder', OneHotEncoder(sparse=False)),\n",
    "])\n",
    "\n",
    "preprocessor=ColumnTransformer(\n",
    "    [\n",
    "        ('num_pipeline',num_pipeline,numerical_cols),\n",
    "        ('cat_pipeline',cat_pipeline,categorical_cols)\n",
    "    ]\n",
    ")"
   ]
  },
  {
   "cell_type": "code",
   "execution_count": 26,
   "id": "595149c4",
   "metadata": {
    "execution": {
     "iopub.execute_input": "2024-01-27T13:08:13.827951Z",
     "iopub.status.busy": "2024-01-27T13:08:13.827562Z",
     "iopub.status.idle": "2024-01-27T13:08:13.851262Z",
     "shell.execute_reply": "2024-01-27T13:08:13.850352Z"
    },
    "papermill": {
     "duration": 0.044986,
     "end_time": "2024-01-27T13:08:13.853332",
     "exception": false,
     "start_time": "2024-01-27T13:08:13.808346",
     "status": "completed"
    },
    "tags": []
   },
   "outputs": [
    {
     "data": {
      "text/plain": [
       "array([[ 0.38623105, -0.49947002, -0.4002477 , ...,  0.        ,\n",
       "         1.        ,  0.        ],\n",
       "       [ 1.37137004,  0.61699237, -0.4002477 , ...,  0.        ,\n",
       "         0.        ,  1.        ],\n",
       "       [ 2.55353683, -0.49947002, -0.4002477 , ...,  0.        ,\n",
       "         1.        ,  0.        ],\n",
       "       ...,\n",
       "       [ 0.70147553, -0.49947002, -0.4002477 , ...,  0.        ,\n",
       "         0.        ,  1.        ],\n",
       "       [-0.20485235, -0.49947002, -0.4002477 , ...,  0.        ,\n",
       "         0.        ,  1.        ],\n",
       "       [-0.20485235,  0.61699237,  0.61989583, ...,  1.        ,\n",
       "         0.        ,  0.        ]])"
      ]
     },
     "execution_count": 26,
     "metadata": {},
     "output_type": "execute_result"
    }
   ],
   "source": [
    "preprocessor.fit_transform(test_data.drop(['Cabin','Name','Ticket','PassengerId'],axis=1))"
   ]
  },
  {
   "cell_type": "code",
   "execution_count": 27,
   "id": "76171d51",
   "metadata": {
    "execution": {
     "iopub.execute_input": "2024-01-27T13:08:13.893234Z",
     "iopub.status.busy": "2024-01-27T13:08:13.892965Z",
     "iopub.status.idle": "2024-01-27T13:08:13.936975Z",
     "shell.execute_reply": "2024-01-27T13:08:13.935890Z"
    },
    "papermill": {
     "duration": 0.06644,
     "end_time": "2024-01-27T13:08:13.939420",
     "exception": false,
     "start_time": "2024-01-27T13:08:13.872980",
     "status": "completed"
    },
    "tags": []
   },
   "outputs": [],
   "source": [
    "X_train=pd.DataFrame(preprocessor.fit_transform(X_train),columns=preprocessor.get_feature_names_out())\n",
    "X_test=pd.DataFrame(preprocessor.transform(X_test),columns=preprocessor.get_feature_names_out())\n",
    "full_train_data=pd.DataFrame(preprocessor.fit_transform(X),columns=preprocessor.get_feature_names_out())\n",
    "actual_test_data = pd.DataFrame(preprocessor.transform(test_data.drop(['Cabin','Name','Ticket','PassengerId'],axis=1)),columns=preprocessor.get_feature_names_out())"
   ]
  },
  {
   "cell_type": "code",
   "execution_count": null,
   "id": "59c8d225",
   "metadata": {
    "papermill": {
     "duration": 0.019164,
     "end_time": "2024-01-27T13:08:13.979200",
     "exception": false,
     "start_time": "2024-01-27T13:08:13.960036",
     "status": "completed"
    },
    "tags": []
   },
   "outputs": [],
   "source": []
  },
  {
   "cell_type": "markdown",
   "id": "cebb35f8",
   "metadata": {
    "papermill": {
     "duration": 0.018398,
     "end_time": "2024-01-27T13:08:14.017185",
     "exception": false,
     "start_time": "2024-01-27T13:08:13.998787",
     "status": "completed"
    },
    "tags": []
   },
   "source": [
    "## Model Traning"
   ]
  },
  {
   "cell_type": "code",
   "execution_count": 28,
   "id": "9cb34850",
   "metadata": {
    "execution": {
     "iopub.execute_input": "2024-01-27T13:08:14.054484Z",
     "iopub.status.busy": "2024-01-27T13:08:14.054140Z",
     "iopub.status.idle": "2024-01-27T13:08:14.323732Z",
     "shell.execute_reply": "2024-01-27T13:08:14.322961Z"
    },
    "papermill": {
     "duration": 0.290364,
     "end_time": "2024-01-27T13:08:14.326108",
     "exception": false,
     "start_time": "2024-01-27T13:08:14.035744",
     "status": "completed"
    },
    "tags": []
   },
   "outputs": [],
   "source": [
    "## Model Training\n",
    "\n",
    "from sklearn.linear_model import LogisticRegression\n",
    "from sklearn.metrics import accuracy_score, classification_report, confusion_matrix\n",
    "from sklearn.model_selection import cross_val_score\n",
    "from sklearn.svm import SVC\n",
    "from sklearn.ensemble import BaggingClassifier,GradientBoostingClassifier\n",
    "from sklearn.model_selection import GridSearchCV \n",
    "import xgboost as xgb"
   ]
  },
  {
   "cell_type": "code",
   "execution_count": 29,
   "id": "eaddef6a",
   "metadata": {
    "execution": {
     "iopub.execute_input": "2024-01-27T13:08:14.364700Z",
     "iopub.status.busy": "2024-01-27T13:08:14.363935Z",
     "iopub.status.idle": "2024-01-27T13:08:14.491828Z",
     "shell.execute_reply": "2024-01-27T13:08:14.490595Z"
    },
    "papermill": {
     "duration": 0.149635,
     "end_time": "2024-01-27T13:08:14.494134",
     "exception": false,
     "start_time": "2024-01-27T13:08:14.344499",
     "status": "completed"
    },
    "tags": []
   },
   "outputs": [
    {
     "name": "stdout",
     "output_type": "stream",
     "text": [
      "Accuracy: 0.7986440677966101\n"
     ]
    }
   ],
   "source": [
    "# Logistic Regression\n",
    "lr = LogisticRegression()\n",
    "lr.fit(X_train, y_train)\n",
    "\n",
    "# Make predictions on the test set\n",
    "y_pred = lr.predict(X_test)\n",
    "\n",
    "\n",
    "# Evaluate the performance of the model\n",
    "cv = cross_val_score(lr,X_train,y_train,cv=10)\n",
    "accuracy = cv.mean()\n",
    "print(f\"Accuracy: {accuracy}\")\n"
   ]
  },
  {
   "cell_type": "code",
   "execution_count": 30,
   "id": "5e7d2637",
   "metadata": {
    "execution": {
     "iopub.execute_input": "2024-01-27T13:08:14.533759Z",
     "iopub.status.busy": "2024-01-27T13:08:14.533143Z",
     "iopub.status.idle": "2024-01-27T13:08:14.609038Z",
     "shell.execute_reply": "2024-01-27T13:08:14.608015Z"
    },
    "papermill": {
     "duration": 0.098106,
     "end_time": "2024-01-27T13:08:14.611382",
     "exception": false,
     "start_time": "2024-01-27T13:08:14.513276",
     "status": "completed"
    },
    "tags": []
   },
   "outputs": [
    {
     "name": "stdout",
     "output_type": "stream",
     "text": [
      "Accuracy: 0.76\n"
     ]
    }
   ],
   "source": [
    "from sklearn.tree import DecisionTreeClassifier\n",
    "\n",
    "dt = DecisionTreeClassifier(random_state=42)\n",
    "\n",
    "# Train the model on the training set\n",
    "dt.fit(X_train, y_train)\n",
    "\n",
    "# Make predictions on the test set\n",
    "y_pred = dt.predict(X_test)\n",
    "\n",
    "# Evaluate the performance of the model\n",
    "cv = cross_val_score(dt,X_train,y_train,cv=10)\n",
    "accuracy = cv.mean()\n",
    "print(f\"Accuracy: {round(accuracy,2)}\")"
   ]
  },
  {
   "cell_type": "code",
   "execution_count": 31,
   "id": "2a6c5220",
   "metadata": {
    "execution": {
     "iopub.execute_input": "2024-01-27T13:08:14.652028Z",
     "iopub.status.busy": "2024-01-27T13:08:14.651744Z",
     "iopub.status.idle": "2024-01-27T13:08:27.029478Z",
     "shell.execute_reply": "2024-01-27T13:08:27.028433Z"
    },
    "papermill": {
     "duration": 12.400955,
     "end_time": "2024-01-27T13:08:27.032000",
     "exception": false,
     "start_time": "2024-01-27T13:08:14.631045",
     "status": "completed"
    },
    "tags": []
   },
   "outputs": [
    {
     "name": "stdout",
     "output_type": "stream",
     "text": [
      "Accuracy: 0.7986440677966102\n"
     ]
    }
   ],
   "source": [
    "from sklearn.ensemble import RandomForestClassifier\n",
    "#  Random Forest model for classification\n",
    "rf = RandomForestClassifier(n_estimators=500, max_depth=3, random_state=42)\n",
    "\n",
    "# Train the model on the training set\n",
    "rf.fit(X_train, y_train)\n",
    "\n",
    "# Make predictions on the test set\n",
    "y_pred = rf.predict(X_test)\n",
    "\n",
    "# Evaluate the performance of the model\n",
    "cv = cross_val_score(rf,X_train,y_train,cv=10)\n",
    "accuracy = cv.mean()\n",
    "print(f\"Accuracy: {accuracy}\")"
   ]
  },
  {
   "cell_type": "code",
   "execution_count": 32,
   "id": "217f5cd9",
   "metadata": {
    "execution": {
     "iopub.execute_input": "2024-01-27T13:08:27.073720Z",
     "iopub.status.busy": "2024-01-27T13:08:27.073392Z",
     "iopub.status.idle": "2024-01-27T13:08:27.243832Z",
     "shell.execute_reply": "2024-01-27T13:08:27.242683Z"
    },
    "papermill": {
     "duration": 0.192972,
     "end_time": "2024-01-27T13:08:27.246024",
     "exception": false,
     "start_time": "2024-01-27T13:08:27.053052",
     "status": "completed"
    },
    "tags": []
   },
   "outputs": [
    {
     "name": "stdout",
     "output_type": "stream",
     "text": [
      "Accuracy: 0.81\n"
     ]
    }
   ],
   "source": [
    "svc = SVC(kernel='rbf')  \n",
    "\n",
    "# Train the model on the training set\n",
    "svc.fit(X_train, y_train)\n",
    "\n",
    "# Make predictions on the test set\n",
    "y_pred = svc.predict(X_test)\n",
    "\n",
    "# Evaluate the performance of the model\n",
    "cv = cross_val_score(svc,X_train,y_train,cv=10)\n",
    "accuracy = cv.mean()\n",
    "print(f\"Accuracy: {round(accuracy,2)}\")"
   ]
  },
  {
   "cell_type": "markdown",
   "id": "8837ab5e",
   "metadata": {
    "papermill": {
     "duration": 0.019972,
     "end_time": "2024-01-27T13:08:27.286417",
     "exception": false,
     "start_time": "2024-01-27T13:08:27.266445",
     "status": "completed"
    },
    "tags": []
   },
   "source": [
    "## Bagging"
   ]
  },
  {
   "cell_type": "code",
   "execution_count": 33,
   "id": "f5b088be",
   "metadata": {
    "execution": {
     "iopub.execute_input": "2024-01-27T13:08:27.328992Z",
     "iopub.status.busy": "2024-01-27T13:08:27.328199Z",
     "iopub.status.idle": "2024-01-27T13:08:35.739094Z",
     "shell.execute_reply": "2024-01-27T13:08:35.737969Z"
    },
    "papermill": {
     "duration": 8.434755,
     "end_time": "2024-01-27T13:08:35.741534",
     "exception": false,
     "start_time": "2024-01-27T13:08:27.306779",
     "status": "completed"
    },
    "tags": []
   },
   "outputs": [
    {
     "name": "stdout",
     "output_type": "stream",
     "text": [
      "Accuracy: 0.8153\n"
     ]
    }
   ],
   "source": [
    "bagging_svc = BaggingClassifier(estimator=SVC(),n_estimators=100, random_state=42)\n",
    "bagging_svc.fit(X_train,y_train)\n",
    "y_pred = bagging_svc.predict(X_test)\n",
    "\n",
    "# Evaluate the performance of the model\n",
    "cv = cross_val_score(bagging_svc,X_train,y_train,cv=10)\n",
    "accuracy = cv.mean()\n",
    "print(f\"Accuracy: {round(accuracy,4)}\")"
   ]
  },
  {
   "cell_type": "code",
   "execution_count": 34,
   "id": "1b22f582",
   "metadata": {
    "execution": {
     "iopub.execute_input": "2024-01-27T13:08:35.782211Z",
     "iopub.status.busy": "2024-01-27T13:08:35.781904Z",
     "iopub.status.idle": "2024-01-27T13:08:39.427939Z",
     "shell.execute_reply": "2024-01-27T13:08:39.426696Z"
    },
    "papermill": {
     "duration": 3.668278,
     "end_time": "2024-01-27T13:08:39.430286",
     "exception": false,
     "start_time": "2024-01-27T13:08:35.762008",
     "status": "completed"
    },
    "tags": []
   },
   "outputs": [
    {
     "name": "stdout",
     "output_type": "stream",
     "text": [
      "Accuracy: 0.78\n"
     ]
    }
   ],
   "source": [
    "bagging_dt = BaggingClassifier(estimator=DecisionTreeClassifier(),n_estimators=100, random_state=42)\n",
    "bagging_dt.fit(X_train,y_train)\n",
    "y_pred = bagging_dt.predict(X_test)\n",
    "\n",
    "# Evaluate the performance of the model\n",
    "cv = cross_val_score(bagging_dt,X_train,y_train,cv=10)\n",
    "accuracy = cv.mean()\n",
    "print(f\"Accuracy: {round(accuracy,2)}\")"
   ]
  },
  {
   "cell_type": "markdown",
   "id": "02ad98f3",
   "metadata": {
    "papermill": {
     "duration": 0.018365,
     "end_time": "2024-01-27T13:08:39.468833",
     "exception": false,
     "start_time": "2024-01-27T13:08:39.450468",
     "status": "completed"
    },
    "tags": []
   },
   "source": [
    "## Boosting"
   ]
  },
  {
   "cell_type": "code",
   "execution_count": 35,
   "id": "f0acd04f",
   "metadata": {
    "execution": {
     "iopub.execute_input": "2024-01-27T13:08:39.507279Z",
     "iopub.status.busy": "2024-01-27T13:08:39.506479Z",
     "iopub.status.idle": "2024-01-27T13:08:40.421125Z",
     "shell.execute_reply": "2024-01-27T13:08:40.420277Z"
    },
    "papermill": {
     "duration": 0.935761,
     "end_time": "2024-01-27T13:08:40.423149",
     "exception": false,
     "start_time": "2024-01-27T13:08:39.487388",
     "status": "completed"
    },
    "tags": []
   },
   "outputs": [
    {
     "name": "stdout",
     "output_type": "stream",
     "text": [
      "Accuracy: 0.7955\n"
     ]
    }
   ],
   "source": [
    "xgboosting = xgb.XGBClassifier(objective=\"binary:logistic\", random_state=42)\n",
    "\n",
    "# Train the model on the training set\n",
    "xgboosting.fit(X_train, y_train)\n",
    "\n",
    "# Make predictions on the test set\n",
    "y_pred = xgboosting.predict(X_test)\n",
    "\n",
    "# Evaluate the performance of the model\n",
    "cv = cross_val_score(xgboosting,X_train,y_train,cv=10)\n",
    "accuracy = cv.mean()\n",
    "print(f\"Accuracy: {round(accuracy,4)}\")\n"
   ]
  },
  {
   "cell_type": "code",
   "execution_count": 36,
   "id": "1dd8d0af",
   "metadata": {
    "execution": {
     "iopub.execute_input": "2024-01-27T13:08:40.463607Z",
     "iopub.status.busy": "2024-01-27T13:08:40.463274Z",
     "iopub.status.idle": "2024-01-27T13:08:42.070232Z",
     "shell.execute_reply": "2024-01-27T13:08:42.069232Z"
    },
    "papermill": {
     "duration": 1.629261,
     "end_time": "2024-01-27T13:08:42.072692",
     "exception": false,
     "start_time": "2024-01-27T13:08:40.443431",
     "status": "completed"
    },
    "tags": []
   },
   "outputs": [
    {
     "name": "stdout",
     "output_type": "stream",
     "text": [
      "Accuracy: 0.8154\n"
     ]
    }
   ],
   "source": [
    "gradient_boosting = GradientBoostingClassifier(random_state=42)\n",
    "\n",
    "# Train the model on the training set\n",
    "gradient_boosting.fit(X_train, y_train)\n",
    "\n",
    "# Make predictions on the test set\n",
    "y_pred = gradient_boosting.predict(X_test)\n",
    "\n",
    "# Evaluate the performance of the model\n",
    "cv = cross_val_score(gradient_boosting,X_train,y_train,cv=10)\n",
    "accuracy = cv.mean()\n",
    "print(f\"Accuracy: {round(accuracy,4)}\")\n"
   ]
  },
  {
   "cell_type": "markdown",
   "id": "b6ccef18",
   "metadata": {
    "papermill": {
     "duration": 0.018528,
     "end_time": "2024-01-27T13:08:42.111543",
     "exception": false,
     "start_time": "2024-01-27T13:08:42.093015",
     "status": "completed"
    },
    "tags": []
   },
   "source": [
    "## Fine Tuning"
   ]
  },
  {
   "cell_type": "code",
   "execution_count": 37,
   "id": "262404d2",
   "metadata": {
    "execution": {
     "iopub.execute_input": "2024-01-27T13:08:42.149810Z",
     "iopub.status.busy": "2024-01-27T13:08:42.149478Z",
     "iopub.status.idle": "2024-01-27T13:08:42.153987Z",
     "shell.execute_reply": "2024-01-27T13:08:42.152846Z"
    },
    "papermill": {
     "duration": 0.026046,
     "end_time": "2024-01-27T13:08:42.156086",
     "exception": false,
     "start_time": "2024-01-27T13:08:42.130040",
     "status": "completed"
    },
    "tags": []
   },
   "outputs": [],
   "source": [
    "from sklearn.model_selection import RandomizedSearchCV"
   ]
  },
  {
   "cell_type": "code",
   "execution_count": 38,
   "id": "3bbebce1",
   "metadata": {
    "execution": {
     "iopub.execute_input": "2024-01-27T13:08:42.198124Z",
     "iopub.status.busy": "2024-01-27T13:08:42.197751Z",
     "iopub.status.idle": "2024-01-27T13:08:52.238291Z",
     "shell.execute_reply": "2024-01-27T13:08:52.236967Z"
    },
    "papermill": {
     "duration": 10.064616,
     "end_time": "2024-01-27T13:08:52.240790",
     "exception": false,
     "start_time": "2024-01-27T13:08:42.176174",
     "status": "completed"
    },
    "tags": []
   },
   "outputs": [
    {
     "name": "stderr",
     "output_type": "stream",
     "text": [
      "/opt/conda/lib/python3.10/site-packages/scipy/__init__.py:146: UserWarning: A NumPy version >=1.16.5 and <1.23.0 is required for this version of SciPy (detected version 1.24.3\n",
      "  warnings.warn(f\"A NumPy version >={np_minversion} and <{np_maxversion}\"\n",
      "/opt/conda/lib/python3.10/site-packages/scipy/__init__.py:146: UserWarning: A NumPy version >=1.16.5 and <1.23.0 is required for this version of SciPy (detected version 1.24.3\n",
      "  warnings.warn(f\"A NumPy version >={np_minversion} and <{np_maxversion}\"\n",
      "/opt/conda/lib/python3.10/site-packages/scipy/__init__.py:146: UserWarning: A NumPy version >=1.16.5 and <1.23.0 is required for this version of SciPy (detected version 1.24.3\n",
      "  warnings.warn(f\"A NumPy version >={np_minversion} and <{np_maxversion}\"\n",
      "/opt/conda/lib/python3.10/site-packages/scipy/__init__.py:146: UserWarning: A NumPy version >=1.16.5 and <1.23.0 is required for this version of SciPy (detected version 1.24.3\n",
      "  warnings.warn(f\"A NumPy version >={np_minversion} and <{np_maxversion}\"\n"
     ]
    },
    {
     "name": "stdout",
     "output_type": "stream",
     "text": [
      "Best Parameters:  {'n_estimators': 50, 'estimator__kernel': 'poly', 'estimator__C': 10.0}\n",
      "Best Accuracy:  0.8104326345532376\n",
      "Test Accuracy:  0.7932203389830509\n"
     ]
    }
   ],
   "source": [
    "param_dist = {\n",
    "    'estimator__C': np.logspace(-3, 3, 7),\n",
    "    'estimator__kernel': ['linear', 'rbf', 'poly'],\n",
    "#     'estimator__degree': [2, 3, 4],\n",
    "#     'estimator__gamma': ['scale', 'auto'] + list(np.logspace(-3, 3, 7)),\n",
    "    'n_estimators': [10, 50, 100],\n",
    "#     'max_samples': [0.5, 0.7, 1.0],\n",
    "#     'max_features': [0.5, 0.7, 1.0],\n",
    "}\n",
    "\n",
    "# Create the RandomizedSearchCV object\n",
    "random_search = RandomizedSearchCV(\n",
    "    estimator=bagging_svc,\n",
    "    param_distributions=param_dist,\n",
    "    n_iter=10,  # Adjust the number of iterations based on your computational resources\n",
    "    cv=3,\n",
    "    scoring='accuracy',\n",
    "    n_jobs=-1,\n",
    "    random_state=42\n",
    ")\n",
    "\n",
    "# Fit the model to the training data\n",
    "random_search.fit(X_train, y_train)\n",
    "\n",
    "# Print the best parameters and corresponding accuracy\n",
    "print(\"Best Parameters: \", random_search.best_params_)\n",
    "print(\"Best Accuracy: \", random_search.best_score_)\n",
    "\n",
    "# Evaluate the model on the test set\n",
    "best_model = random_search.best_estimator_\n",
    "test_accuracy = best_model.score(X_test, y_test)\n",
    "print(\"Test Accuracy: \", test_accuracy)"
   ]
  },
  {
   "cell_type": "code",
   "execution_count": 39,
   "id": "bc316e09",
   "metadata": {
    "execution": {
     "iopub.execute_input": "2024-01-27T13:08:52.280373Z",
     "iopub.status.busy": "2024-01-27T13:08:52.279419Z",
     "iopub.status.idle": "2024-01-27T13:08:52.286004Z",
     "shell.execute_reply": "2024-01-27T13:08:52.285161Z"
    },
    "papermill": {
     "duration": 0.028076,
     "end_time": "2024-01-27T13:08:52.288103",
     "exception": false,
     "start_time": "2024-01-27T13:08:52.260027",
     "status": "completed"
    },
    "tags": []
   },
   "outputs": [
    {
     "data": {
      "text/plain": [
       "{'n_estimators': 50, 'estimator__kernel': 'poly', 'estimator__C': 10.0}"
      ]
     },
     "execution_count": 39,
     "metadata": {},
     "output_type": "execute_result"
    }
   ],
   "source": [
    "best_params = random_search.best_params_\n",
    "best_params"
   ]
  },
  {
   "cell_type": "code",
   "execution_count": 40,
   "id": "5951f1f7",
   "metadata": {
    "execution": {
     "iopub.execute_input": "2024-01-27T13:08:52.328813Z",
     "iopub.status.busy": "2024-01-27T13:08:52.328207Z",
     "iopub.status.idle": "2024-01-27T13:09:00.588253Z",
     "shell.execute_reply": "2024-01-27T13:09:00.587233Z"
    },
    "papermill": {
     "duration": 8.282928,
     "end_time": "2024-01-27T13:09:00.590452",
     "exception": false,
     "start_time": "2024-01-27T13:08:52.307524",
     "status": "completed"
    },
    "tags": []
   },
   "outputs": [
    {
     "name": "stdout",
     "output_type": "stream",
     "text": [
      "Accuracy: 0.8153389830508473\n"
     ]
    }
   ],
   "source": [
    "#Recreating with best parameter\n",
    "best_bagging_svc = BaggingClassifier(estimator=SVC(kernel = 'poly',C = 10.0),n_estimators=50)\n",
    "best_bagging_svc.fit(X_train,y_train)\n",
    "y_pred = bagging_svc.predict(X_test)\n",
    "\n",
    "# Evaluate the performance of the model\n",
    "cv = cross_val_score(bagging_svc,X_train,y_train,cv=10)\n",
    "accuracy = cv.mean()\n",
    "print(f\"Accuracy: {accuracy}\")"
   ]
  },
  {
   "cell_type": "code",
   "execution_count": 41,
   "id": "c748607a",
   "metadata": {
    "execution": {
     "iopub.execute_input": "2024-01-27T13:09:00.631117Z",
     "iopub.status.busy": "2024-01-27T13:09:00.630759Z",
     "iopub.status.idle": "2024-01-27T13:09:02.112075Z",
     "shell.execute_reply": "2024-01-27T13:09:02.110954Z"
    },
    "papermill": {
     "duration": 1.504152,
     "end_time": "2024-01-27T13:09:02.114095",
     "exception": false,
     "start_time": "2024-01-27T13:09:00.609943",
     "status": "completed"
    },
    "tags": []
   },
   "outputs": [
    {
     "name": "stdout",
     "output_type": "stream",
     "text": [
      "Your submission was successfully saved!\n"
     ]
    }
   ],
   "source": [
    "# Creating the model with whole data\n",
    "full_bagging_svc = BaggingClassifier(estimator=SVC(kernel = 'poly',C = 10.0),n_estimators=50)\n",
    "full_bagging_svc.fit(full_train_data,y)\n",
    "predictions = full_bagging_svc.predict(actual_test_data)\n",
    "output = pd.DataFrame({'PassengerId': test_data.PassengerId, 'Survived': predictions})\n",
    "output.to_csv('submission_bagging.csv', index=False)\n",
    "print(\"Your submission was successfully saved!\")"
   ]
  },
  {
   "cell_type": "code",
   "execution_count": null,
   "id": "f9445f7d",
   "metadata": {
    "papermill": {
     "duration": 0.018634,
     "end_time": "2024-01-27T13:09:02.152034",
     "exception": false,
     "start_time": "2024-01-27T13:09:02.133400",
     "status": "completed"
    },
    "tags": []
   },
   "outputs": [],
   "source": []
  },
  {
   "cell_type": "code",
   "execution_count": null,
   "id": "b6fdedc4",
   "metadata": {
    "papermill": {
     "duration": 0.019732,
     "end_time": "2024-01-27T13:09:02.190843",
     "exception": false,
     "start_time": "2024-01-27T13:09:02.171111",
     "status": "completed"
    },
    "tags": []
   },
   "outputs": [],
   "source": []
  },
  {
   "cell_type": "code",
   "execution_count": null,
   "id": "866611b3",
   "metadata": {
    "papermill": {
     "duration": 0.018825,
     "end_time": "2024-01-27T13:09:02.229242",
     "exception": false,
     "start_time": "2024-01-27T13:09:02.210417",
     "status": "completed"
    },
    "tags": []
   },
   "outputs": [],
   "source": []
  },
  {
   "cell_type": "code",
   "execution_count": null,
   "id": "73bb1de1",
   "metadata": {
    "papermill": {
     "duration": 0.019147,
     "end_time": "2024-01-27T13:09:02.267575",
     "exception": false,
     "start_time": "2024-01-27T13:09:02.248428",
     "status": "completed"
    },
    "tags": []
   },
   "outputs": [],
   "source": []
  },
  {
   "cell_type": "code",
   "execution_count": null,
   "id": "00b261ee",
   "metadata": {
    "papermill": {
     "duration": 0.018488,
     "end_time": "2024-01-27T13:09:02.304765",
     "exception": false,
     "start_time": "2024-01-27T13:09:02.286277",
     "status": "completed"
    },
    "tags": []
   },
   "outputs": [],
   "source": []
  }
 ],
 "metadata": {
  "kaggle": {
   "accelerator": "nvidiaTeslaT4",
   "dataSources": [
    {
     "databundleVersionId": 26502,
     "sourceId": 3136,
     "sourceType": "competition"
    }
   ],
   "dockerImageVersionId": 30626,
   "isGpuEnabled": true,
   "isInternetEnabled": true,
   "language": "python",
   "sourceType": "notebook"
  },
  "kernelspec": {
   "display_name": "Python 3",
   "language": "python",
   "name": "python3"
  },
  "language_info": {
   "codemirror_mode": {
    "name": "ipython",
    "version": 3
   },
   "file_extension": ".py",
   "mimetype": "text/x-python",
   "name": "python",
   "nbconvert_exporter": "python",
   "pygments_lexer": "ipython3",
   "version": "3.10.12"
  },
  "papermill": {
   "default_parameters": {},
   "duration": 61.038085,
   "end_time": "2024-01-27T13:09:04.942809",
   "environment_variables": {},
   "exception": null,
   "input_path": "__notebook__.ipynb",
   "output_path": "__notebook__.ipynb",
   "parameters": {},
   "start_time": "2024-01-27T13:08:03.904724",
   "version": "2.4.0"
  }
 },
 "nbformat": 4,
 "nbformat_minor": 5
}
